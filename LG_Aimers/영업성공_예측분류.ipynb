{
 "cells": [
  {
   "cell_type": "markdown",
   "id": "ff1def6a",
   "metadata": {
    "cell_marker": "\"\"\""
   },
   "source": [
    "# Import Dataset and Libraries"
   ]
  },
  {
   "cell_type": "code",
   "execution_count": 1,
   "id": "afeca066",
   "metadata": {
    "lines_to_next_cell": 2
   },
   "outputs": [],
   "source": [
    "# %pip install catboost==1.1.1\n",
    "# %pip install pycountry==22.1.10\n",
    "# %pip install scikit-learn==1.2.2\n",
    "# %pip install optuna==3.2.0"
   ]
  },
  {
   "cell_type": "code",
   "execution_count": 2,
   "id": "de8b6af1",
   "metadata": {},
   "outputs": [
    {
     "name": "stderr",
     "output_type": "stream",
     "text": [
      "c:\\Users\\user\\Desktop\\공부\\데이터분석\\.venv\\Lib\\site-packages\\tqdm\\auto.py:21: TqdmWarning: IProgress not found. Please update jupyter and ipywidgets. See https://ipywidgets.readthedocs.io/en/stable/user_install.html\n",
      "  from .autonotebook import tqdm as notebook_tqdm\n",
      "c:\\Users\\user\\Desktop\\공부\\데이터분석\\.venv\\Lib\\site-packages\\pycountry\\__init__.py:10: UserWarning: pkg_resources is deprecated as an API. See https://setuptools.pypa.io/en/latest/pkg_resources.html. The pkg_resources package is slated for removal as early as 2025-11-30. Refrain from using this package or pin to Setuptools<81.\n",
      "  import pkg_resources\n"
     ]
    }
   ],
   "source": [
    "import functools\n",
    "\n",
    "import joblib\n",
    "import numpy as np\n",
    "import optuna\n",
    "import pandas as pd\n",
    "import pycountry\n",
    "from catboost import CatBoostClassifier\n",
    "from sklearn.compose import ColumnTransformer\n",
    "from sklearn.metrics import (accuracy_score, f1_score, precision_score,\n",
    "                             recall_score, roc_auc_score)\n",
    "from sklearn.model_selection import StratifiedKFold\n",
    "from sklearn.pipeline import Pipeline\n",
    "from sklearn.preprocessing import StandardScaler\n",
    "\n",
    "TRAIN_FILE = \"./train.xls\"\n",
    "TEST_FILE = \"./submission.xls\"\n",
    "MODEL_FILE = \"./catboost_params.pkl\"\n",
    "\n",
    "DO_OPTIMIZATION = False\n",
    "RANDOM_STATE = 42"
   ]
  },
  {
   "cell_type": "code",
   "execution_count": 3,
   "id": "3b74e086",
   "metadata": {},
   "outputs": [],
   "source": [
    "df_train = pd.read_csv(TRAIN_FILE)\n",
    "df_test = pd.read_csv(TEST_FILE)\n",
    "df_submission = pd.read_csv(TEST_FILE)\n",
    "\n",
    "X, y = df_train.drop(\"is_converted\", axis=1), df_train[\"is_converted\"]\n",
    "X_test = df_test.drop([\"is_converted\", \"id\"], axis=1)"
   ]
  },
  {
   "cell_type": "code",
   "execution_count": 4,
   "id": "312e7abf",
   "metadata": {
    "scrolled": true
   },
   "outputs": [
    {
     "data": {
      "text/html": [
       "<div>\n",
       "<style scoped>\n",
       "    .dataframe tbody tr th:only-of-type {\n",
       "        vertical-align: middle;\n",
       "    }\n",
       "\n",
       "    .dataframe tbody tr th {\n",
       "        vertical-align: top;\n",
       "    }\n",
       "\n",
       "    .dataframe thead th {\n",
       "        text-align: right;\n",
       "    }\n",
       "</style>\n",
       "<table border=\"1\" class=\"dataframe\">\n",
       "  <thead>\n",
       "    <tr style=\"text-align: right;\">\n",
       "      <th></th>\n",
       "      <th>bant_submit</th>\n",
       "      <th>customer_country</th>\n",
       "      <th>business_unit</th>\n",
       "      <th>com_reg_ver_win_rate</th>\n",
       "      <th>customer_idx</th>\n",
       "      <th>customer_type</th>\n",
       "      <th>enterprise</th>\n",
       "      <th>historical_existing_cnt</th>\n",
       "      <th>id_strategic_ver</th>\n",
       "      <th>it_strategic_ver</th>\n",
       "      <th>...</th>\n",
       "      <th>response_corporate</th>\n",
       "      <th>expected_timeline</th>\n",
       "      <th>ver_cus</th>\n",
       "      <th>ver_pro</th>\n",
       "      <th>ver_win_rate_x</th>\n",
       "      <th>ver_win_ratio_per_bu</th>\n",
       "      <th>business_area</th>\n",
       "      <th>business_subarea</th>\n",
       "      <th>lead_owner</th>\n",
       "      <th>is_converted</th>\n",
       "    </tr>\n",
       "  </thead>\n",
       "  <tbody>\n",
       "    <tr>\n",
       "      <th>0</th>\n",
       "      <td>1.0</td>\n",
       "      <td>/Quezon City/Philippines</td>\n",
       "      <td>AS</td>\n",
       "      <td>0.066667</td>\n",
       "      <td>32160</td>\n",
       "      <td>End-Customer</td>\n",
       "      <td>Enterprise</td>\n",
       "      <td>NaN</td>\n",
       "      <td>NaN</td>\n",
       "      <td>NaN</td>\n",
       "      <td>...</td>\n",
       "      <td>LGEPH</td>\n",
       "      <td>less than 3 months</td>\n",
       "      <td>1</td>\n",
       "      <td>0</td>\n",
       "      <td>0.003079</td>\n",
       "      <td>0.026846</td>\n",
       "      <td>corporate / office</td>\n",
       "      <td>Engineering</td>\n",
       "      <td>0</td>\n",
       "      <td>True</td>\n",
       "    </tr>\n",
       "    <tr>\n",
       "      <th>1</th>\n",
       "      <td>1.0</td>\n",
       "      <td>/PH-00/Philippines</td>\n",
       "      <td>AS</td>\n",
       "      <td>0.066667</td>\n",
       "      <td>23122</td>\n",
       "      <td>End-Customer</td>\n",
       "      <td>Enterprise</td>\n",
       "      <td>12.0</td>\n",
       "      <td>NaN</td>\n",
       "      <td>NaN</td>\n",
       "      <td>...</td>\n",
       "      <td>LGEPH</td>\n",
       "      <td>less than 3 months</td>\n",
       "      <td>1</td>\n",
       "      <td>0</td>\n",
       "      <td>0.003079</td>\n",
       "      <td>0.026846</td>\n",
       "      <td>corporate / office</td>\n",
       "      <td>Advertising</td>\n",
       "      <td>1</td>\n",
       "      <td>True</td>\n",
       "    </tr>\n",
       "    <tr>\n",
       "      <th>2</th>\n",
       "      <td>1.0</td>\n",
       "      <td>/Kolkata /India</td>\n",
       "      <td>AS</td>\n",
       "      <td>0.088889</td>\n",
       "      <td>1755</td>\n",
       "      <td>End-Customer</td>\n",
       "      <td>Enterprise</td>\n",
       "      <td>144.0</td>\n",
       "      <td>NaN</td>\n",
       "      <td>NaN</td>\n",
       "      <td>...</td>\n",
       "      <td>LGEIL</td>\n",
       "      <td>less than 3 months</td>\n",
       "      <td>1</td>\n",
       "      <td>0</td>\n",
       "      <td>0.003079</td>\n",
       "      <td>0.026846</td>\n",
       "      <td>corporate / office</td>\n",
       "      <td>Construction</td>\n",
       "      <td>2</td>\n",
       "      <td>True</td>\n",
       "    </tr>\n",
       "    <tr>\n",
       "      <th>3</th>\n",
       "      <td>1.0</td>\n",
       "      <td>/Bhubaneswar/India</td>\n",
       "      <td>AS</td>\n",
       "      <td>0.088889</td>\n",
       "      <td>4919</td>\n",
       "      <td>End-Customer</td>\n",
       "      <td>Enterprise</td>\n",
       "      <td>NaN</td>\n",
       "      <td>NaN</td>\n",
       "      <td>NaN</td>\n",
       "      <td>...</td>\n",
       "      <td>LGEIL</td>\n",
       "      <td>less than 3 months</td>\n",
       "      <td>1</td>\n",
       "      <td>0</td>\n",
       "      <td>0.003079</td>\n",
       "      <td>0.026846</td>\n",
       "      <td>corporate / office</td>\n",
       "      <td>IT/Software</td>\n",
       "      <td>3</td>\n",
       "      <td>True</td>\n",
       "    </tr>\n",
       "    <tr>\n",
       "      <th>4</th>\n",
       "      <td>1.0</td>\n",
       "      <td>/Hyderabad/India</td>\n",
       "      <td>AS</td>\n",
       "      <td>0.088889</td>\n",
       "      <td>17126</td>\n",
       "      <td>Specifier/ Influencer</td>\n",
       "      <td>Enterprise</td>\n",
       "      <td>NaN</td>\n",
       "      <td>NaN</td>\n",
       "      <td>NaN</td>\n",
       "      <td>...</td>\n",
       "      <td>LGEIL</td>\n",
       "      <td>less than 3 months</td>\n",
       "      <td>0</td>\n",
       "      <td>0</td>\n",
       "      <td>0.003079</td>\n",
       "      <td>0.026846</td>\n",
       "      <td>corporate / office</td>\n",
       "      <td>NaN</td>\n",
       "      <td>4</td>\n",
       "      <td>True</td>\n",
       "    </tr>\n",
       "  </tbody>\n",
       "</table>\n",
       "<p>5 rows × 29 columns</p>\n",
       "</div>"
      ],
      "text/plain": [
       "   bant_submit          customer_country business_unit  com_reg_ver_win_rate  \\\n",
       "0          1.0  /Quezon City/Philippines            AS              0.066667   \n",
       "1          1.0        /PH-00/Philippines            AS              0.066667   \n",
       "2          1.0           /Kolkata /India            AS              0.088889   \n",
       "3          1.0        /Bhubaneswar/India            AS              0.088889   \n",
       "4          1.0          /Hyderabad/India            AS              0.088889   \n",
       "\n",
       "   customer_idx          customer_type  enterprise  historical_existing_cnt  \\\n",
       "0         32160           End-Customer  Enterprise                      NaN   \n",
       "1         23122           End-Customer  Enterprise                     12.0   \n",
       "2          1755           End-Customer  Enterprise                    144.0   \n",
       "3          4919           End-Customer  Enterprise                      NaN   \n",
       "4         17126  Specifier/ Influencer  Enterprise                      NaN   \n",
       "\n",
       "   id_strategic_ver  it_strategic_ver  ...  response_corporate  \\\n",
       "0               NaN               NaN  ...               LGEPH   \n",
       "1               NaN               NaN  ...               LGEPH   \n",
       "2               NaN               NaN  ...               LGEIL   \n",
       "3               NaN               NaN  ...               LGEIL   \n",
       "4               NaN               NaN  ...               LGEIL   \n",
       "\n",
       "    expected_timeline  ver_cus ver_pro ver_win_rate_x ver_win_ratio_per_bu  \\\n",
       "0  less than 3 months        1       0       0.003079             0.026846   \n",
       "1  less than 3 months        1       0       0.003079             0.026846   \n",
       "2  less than 3 months        1       0       0.003079             0.026846   \n",
       "3  less than 3 months        1       0       0.003079             0.026846   \n",
       "4  less than 3 months        0       0       0.003079             0.026846   \n",
       "\n",
       "        business_area business_subarea lead_owner is_converted  \n",
       "0  corporate / office      Engineering          0         True  \n",
       "1  corporate / office      Advertising          1         True  \n",
       "2  corporate / office     Construction          2         True  \n",
       "3  corporate / office      IT/Software          3         True  \n",
       "4  corporate / office              NaN          4         True  \n",
       "\n",
       "[5 rows x 29 columns]"
      ]
     },
     "execution_count": 4,
     "metadata": {},
     "output_type": "execute_result"
    }
   ],
   "source": [
    "df_train.head()"
   ]
  },
  {
   "cell_type": "code",
   "execution_count": 5,
   "id": "adb2a39d",
   "metadata": {},
   "outputs": [],
   "source": [
    "# # bant_submit에서 budget 생성\n",
    "# import numpy as np\n",
    "\n",
    "# X['budget'] = 0\n",
    "# X_test['budget'] = 0\n",
    "\n",
    "# for col in ['inquiry_type', 'expected_timeline', 'customer_job']:\n",
    "#     X['budget'] += ~X[col].isna() * 0.25\n",
    "    \n",
    "# for col in ['inquiry_type', 'expected_timeline', 'customer_job']:\n",
    "#     X_test['budget'] += ~X_test[col].isna() * 0.25\n",
    "\n",
    "# X['budget'] = (X['bant_submit'] - X['budget'] == 0.25).astype(int)\n",
    "# X_test['budget'] = (X_test['bant_submit'] - X_test['budget'] == 0.25).astype(int)\n"
   ]
  },
  {
   "cell_type": "code",
   "execution_count": 6,
   "id": "95108227",
   "metadata": {},
   "outputs": [],
   "source": [
    "# X[['bant_submit','budget','inquiry_type','expected_timeline', 'customer_job']].head(50)"
   ]
  },
  {
   "cell_type": "markdown",
   "id": "4a556002",
   "metadata": {
    "cell_marker": "\"\"\""
   },
   "source": [
    "# Data Preprocessing"
   ]
  },
  {
   "cell_type": "markdown",
   "id": "0696b1d8",
   "metadata": {
    "cell_marker": "\"\"\""
   },
   "source": [
    "## 1. Data Imputation"
   ]
  },
  {
   "cell_type": "code",
   "execution_count": 7,
   "id": "f286bfe1",
   "metadata": {},
   "outputs": [],
   "source": [
    "values = {\n",
    "    **{column: 0 for column in X.columns},\n",
    "    \"inquiry_type\": \"Quotation or Purchase Consultation\",\n",
    "    \"customer_country\": \"Not Found\",\n",
    "}\n",
    "\n",
    "X.fillna(value=values, inplace=True)\n",
    "X_test.fillna(value=values, inplace=True)"
   ]
  },
  {
   "cell_type": "markdown",
   "id": "114278a4",
   "metadata": {
    "cell_marker": "\"\"\"",
    "lines_to_next_cell": 0
   },
   "source": [
    "## 2. Data Cleaning "
   ]
  },
  {
   "cell_type": "markdown",
   "id": "788eb053",
   "metadata": {
    "cell_marker": "\"\"\""
   },
   "source": [
    "### Feature: Expected Timeline"
   ]
  },
  {
   "cell_type": "code",
   "execution_count": 8,
   "id": "d74ed5ea",
   "metadata": {},
   "outputs": [
    {
     "name": "stderr",
     "output_type": "stream",
     "text": [
      "C:\\Users\\user\\AppData\\Local\\Temp\\ipykernel_15168\\163291826.py:36: FutureWarning: A value is trying to be set on a copy of a DataFrame or Series through chained assignment using an inplace method.\n",
      "The behavior will change in pandas 3.0. This inplace method will never work because the intermediate object on which we are setting values always behaves as a copy.\n",
      "\n",
      "For example, when doing 'df[col].method(value, inplace=True)', try using 'df.method({col: value}, inplace=True)' or df[col] = df[col].method(value) instead, to perform the operation inplace on the original object.\n",
      "\n",
      "\n",
      "  X[\"expected_timeline\"].fillna(X[\"expected_timeline\"].mean(), inplace=True)\n",
      "C:\\Users\\user\\AppData\\Local\\Temp\\ipykernel_15168\\163291826.py:37: FutureWarning: A value is trying to be set on a copy of a DataFrame or Series through chained assignment using an inplace method.\n",
      "The behavior will change in pandas 3.0. This inplace method will never work because the intermediate object on which we are setting values always behaves as a copy.\n",
      "\n",
      "For example, when doing 'df[col].method(value, inplace=True)', try using 'df.method({col: value}, inplace=True)' or df[col] = df[col].method(value) instead, to perform the operation inplace on the original object.\n",
      "\n",
      "\n",
      "  X_test[\"expected_timeline\"].fillna(X[\"expected_timeline\"].mean(), inplace=True)\n"
     ]
    }
   ],
   "source": [
    "def expected_timeline_remap(line):\n",
    "    if not isinstance(line, str):\n",
    "        return np.nan\n",
    "\n",
    "    line = (\n",
    "        line.lower()\n",
    "        .strip()\n",
    "        .replace(\"then\", \"than\")\n",
    "        .replace(\"_\", \"\")\n",
    "        .replace(\"~\", \"\")\n",
    "        .replace(\" \", \"\")\n",
    "        .replace(\"-\", \"\")\n",
    "    )\n",
    "\n",
    "    if line in [\"lessthan3months\", \"onemonth\"]:\n",
    "        return 1.5\n",
    "    elif line in [\"3months6months\", \"lessthan6months\", \"lessthan5months\"]:\n",
    "        return 4.5\n",
    "    elif line == \"6months9months\":\n",
    "        return 7.5\n",
    "    elif line == \"9months1year\":\n",
    "        return 10.5\n",
    "    elif line == \"morethanayear\":\n",
    "        return 12\n",
    "    else:\n",
    "        return np.nan\n",
    "\n",
    "\n",
    "X[\"expected_timeline\"] = [\n",
    "    expected_timeline_remap(x) for x in X[\"expected_timeline\"].values\n",
    "]\n",
    "X_test[\"expected_timeline\"] = [\n",
    "    expected_timeline_remap(x) for x in X_test[\"expected_timeline\"].values\n",
    "]\n",
    "\n",
    "X[\"expected_timeline\"].fillna(X[\"expected_timeline\"].mean(), inplace=True)\n",
    "X_test[\"expected_timeline\"].fillna(X[\"expected_timeline\"].mean(), inplace=True)"
   ]
  },
  {
   "cell_type": "markdown",
   "id": "9de883b6",
   "metadata": {
    "cell_marker": "\"\"\""
   },
   "source": [
    "### Feature: Customer Country"
   ]
  },
  {
   "cell_type": "code",
   "execution_count": 9,
   "id": "3145d397",
   "metadata": {},
   "outputs": [],
   "source": [
    "def preprocess_country(country):\n",
    "    if not isinstance(country, str):\n",
    "        return \"Not Found\"\n",
    "\n",
    "    country = country.split(\"/\")[-1].strip()\n",
    "    country = pycountry.countries.get(name=country)\n",
    "    return \"Not Found\" if country is None else country.alpha_3\n",
    "\n",
    "\n",
    "X[\"customer_country\"] = [\n",
    "    preprocess_country(country) for country in X[\"customer_country\"]\n",
    "]\n",
    "\n",
    "X_test[\"customer_country\"] = [\n",
    "    preprocess_country(country) for country in X_test[\"customer_country\"]\n",
    "]"
   ]
  },
  {
   "cell_type": "markdown",
   "id": "c5f2fceb",
   "metadata": {
    "cell_marker": "\"\"\""
   },
   "source": [
    "### Feature: Business Unit (\"business_unit\")"
   ]
  },
  {
   "cell_type": "code",
   "execution_count": 10,
   "id": "2e9481c8",
   "metadata": {},
   "outputs": [],
   "source": [
    "X[\"business_unit\"] = X[\"business_unit\"].astype(\n",
    "    pd.CategoricalDtype(categories=[\"ID\", \"AS\", \"IT\", \"Solution\", \"CM\"])\n",
    ")\n",
    "X_test[\"business_unit\"] = X_test[\"business_unit\"].astype(\n",
    "    pd.CategoricalDtype(categories=[\"ID\", \"AS\", \"IT\", \"Solution\", \"CM\"])\n",
    ")"
   ]
  },
  {
   "cell_type": "markdown",
   "id": "39c4c863",
   "metadata": {
    "cell_marker": "\"\"\""
   },
   "source": [
    "### Feature: Inquiry Type (\"inquiry_type\")"
   ]
  },
  {
   "cell_type": "code",
   "execution_count": 11,
   "id": "9b873f52",
   "metadata": {},
   "outputs": [],
   "source": [
    "inquiry_type_remap = {\n",
    "    # Quotation: Asking about the product itself.\n",
    "    \"Q\": [\n",
    "        \"Quotation or Purchase Consultation\",\n",
    "        \"Quotation or purchase consultation\",\n",
    "        \"Quotation or Purchase consultation\",\n",
    "        \"quotation_or_purchase_consultation\",\n",
    "        \"Purchase or Quotation\",\n",
    "        \"Purchase\",\n",
    "        \"Request for quotation or purchase\",\n",
    "        \"Sales Inquiry\",\n",
    "        \"sales\",\n",
    "        \"quotation_\",\n",
    "    ],\n",
    "    # Usage: Asking about how to use the product.\n",
    "    \"U\": [\n",
    "        \"Usage or Technical Consultation\",\n",
    "        \"Usage or technical consultation\",\n",
    "        \"usage or technical consultation\",\n",
    "        \"usage_or_technical_consultation\",\n",
    "        \"Technical Consultation\",\n",
    "        \"Technical Support\",\n",
    "        \"technical\",\n",
    "        \"technical_consultation\",\n",
    "        \"Request for technical consulting\",\n",
    "        \"Product Information\",\n",
    "        \"i want to know the details about it\",\n",
    "        \"first Info and pricing\",\n",
    "        \"Toi muon tim hieu thong tin ky thuat, gia ca cua sp de su dung\",\n",
    "        \"tôi cần tham khảo giá và giải pháp từ LG\",\n",
    "        \"Trainings\",\n",
    "    ],\n",
    "    \"O\": [\n",
    "        \"Other\",\n",
    "        \"Others\",\n",
    "        \"other_\",\n",
    "        \"other\",\n",
    "        \"others\",\n",
    "        \"Etc.\",\n",
    "        \"ETC.\",\n",
    "        \"Not specified\",\n",
    "        \"(Select ID_Needs)\",\n",
    "        \"IDB\",\n",
    "        \"Services\",\n",
    "        \"Request for Partnership\",\n",
    "        \"Request a Demo\",\n",
    "        \"Request for Distributorship\",\n",
    "        \"Customer Suggestions\",\n",
    "        *(\n",
    "            df_train[\"inquiry_type\"]\n",
    "            .value_counts()\n",
    "            .loc[df_train[\"inquiry_type\"].value_counts() < 10]\n",
    "            .index.tolist()\n",
    "        ),\n",
    "    ],\n",
    "}\n",
    "\n",
    "for key, value in inquiry_type_remap.items():\n",
    "    X.loc[X[\"inquiry_type\"].isin(value), \"inquiry_type\"] = key\n",
    "    X_test.loc[X_test[\"inquiry_type\"].isin(value), \"inquiry_type\"] = key"
   ]
  },
  {
   "cell_type": "markdown",
   "id": "4eef5daf",
   "metadata": {},
   "source": [
    "### Feature: Customer Position (\"customer_position\")"
   ]
  },
  {
   "cell_type": "code",
   "execution_count": 12,
   "id": "20772705",
   "metadata": {},
   "outputs": [],
   "source": [
    "X['customer_position'] = X['customer_position'].replace('decision maker', 'decision-maker')\n",
    "X['customer_position'] = X['customer_position'].replace('decision influencer', 'decision-influencer')\n",
    "X['customer_position'] = X['customer_position'].replace('architect/consultant', 'architecture/consult')\n",
    "X['customer_position'] = X['customer_position'].replace('physics and mathematics teacher', 'math and physics teacher')\n",
    "X['customer_position'] = X['customer_position'].replace('vicepresident', 'vice president')\n",
    "X['customer_position'] = X['customer_position'].replace('others', 'other')\n",
    "\n",
    "X_test['customer_position'] = X_test['customer_position'].replace('decision influencer', 'decision-influencer')\n",
    "X_test['customer_position'] = X_test['customer_position'].replace('architect/consultant', 'architecture/consult')\n",
    "X_test['customer_position'] = X_test['customer_position'].replace('physics and mathematics teacher', 'math and physics teacher')\n",
    "X_test['customer_position'] = X_test['customer_position'].replace('vicepresident', 'vice president')\n",
    "X_test['customer_position'] = X_test['customer_position'].replace('others', 'other')"
   ]
  },
  {
   "cell_type": "code",
   "execution_count": 13,
   "id": "e9b13d0a",
   "metadata": {},
   "outputs": [],
   "source": [
    "# Classification by position and occupation\n",
    "C_position_high_executive = [\n",
    "    'manager', 'ceo/founder', 'c-level executive',\n",
    "    'vice president', 'c-levelexecutive', 'founder',\n",
    "    'commercial consultant', 'government',\n",
    "    'operations', 'other - please specify - cedia association',\n",
    "    'leadership/executive office/owner', 'market intelligence/research',\n",
    "    'chairman', 'co-founder', 'chief executive officer',\n",
    "    'ceo/fundador', 'gerente', 'president', 'genel müdür', 'bulgaria',\n",
    "]\n",
    "\n",
    "C_position_low_executive = [\n",
    "    'director', 'intern', 'trainee', 'entry level',\n",
    "    'employee', 'administrative', 'manufacturer',\n",
    "    'system integrator', 'distributor', 'business unit director',\n",
    "    'business development', 'product management', 'business partner',\n",
    "    'subsidiary sales (ise)', 'business development/sales',\n",
    "    'sales',\n",
    "]\n",
    "\n",
    "C_position_education = [\n",
    "    'physics teacher', 'assistant professor',\n",
    "    'maths lecturer', 'science teacher', 'physics faculty',\n",
    "    'teacher/middle school coordinator', 'math and physics teacher',\n",
    "    'professor of mathematics', 'prof.', 'professor of mathematics',\n",
    "    'academic specialist', 'principal at oxford integrated pu science college'\n",
    "    'assistant professor of English', 'educator', 'professor',\n",
    "    'quantitative aptitude faculty', 'english trainer for ielts,toefl,pte,gre,sat exams.'\n",
    "    'associate professor', 'principal & director', 'hon dean',\n",
    "    'pgt physics', 'education professional', 'chemistry teacher',\n",
    "    'director cum faculty at gaining apex coaching centre',\n",
    "    'academic coordinator/ post graduate teacher (accountancy, business studies)/ tgt (ict)',\n",
    "    'teacher', 'senior lecturer', 'neet/ olympiad expert faculty',\n",
    "    'asst prof.', 'associate professor in electronics engg', 'professional trainer',\n",
    "    'education',\n",
    "]\n",
    "\n",
    "C_position_hospital = [\n",
    "    'hospital', 'medical device manufacturer', 'vp', 'medical imaging specialist',\n",
    "    'tierarzt', 'főorvos', 'surgery professional', 'pathologist', 'radiology professional'\n",
    "]\n",
    "\n",
    "C_position_others = [\n",
    "    'entry level', 'customer', 'technical',\n",
    "    'exhibition', 'end-user', 'cargo', 'técnico', 'exhibitiontv',\n",
    "    'proprietário(a)', 'mindenes', 'research', 'the big boss',\n",
    "    'partner', 'associate/analyst', 'none', 'unpaid', 'av management',\n",
    "    'engineering', 'installer', 'homeowner', 'commercial end-user'\n",
    "    'lider de desarrollo', 'entrepreneurship', 'not applicable',\n",
    "    'no influence',\n",
    "]\n",
    "\n",
    "C_position_consultant = [\n",
    "    'consultant', 'software/solution provider', 'guest faculty',\n",
    "    'career coach', 'consulting',\n",
    "]\n"
   ]
  },
  {
   "cell_type": "code",
   "execution_count": 14,
   "id": "3bb42137",
   "metadata": {},
   "outputs": [],
   "source": [
    "position_category= {\n",
    "    'High Executive': C_position_high_executive,\n",
    "    'Low Executive': C_position_low_executive,\n",
    "    'Education': C_position_education,\n",
    "    'Hospital': C_position_hospital,\n",
    "    'Consultant': C_position_consultant,\n",
    "    'Others': C_position_others\n",
    "}\n",
    "\n",
    "for category, positions in position_category.items():\n",
    "    X.loc[X['customer_position'].isin(positions), 'C_position_1'] = category\n",
    "    X_test.loc[X_test['customer_position'].isin(positions), 'C_position_1'] = category\n",
    "\n",
    "# 'Hospital', 'Consultant', 'Education'는 무의미한 데이터로 판단 -> Others로 대체\n",
    "categories_drop = ['Hospital', 'Consultant', 'Education']\n",
    "X.loc[X['C_position_1'].isin(categories_drop), 'C_position_1'] = 'Others'\n",
    "X_test.loc[X_test['C_position_1'].isin(categories_drop), 'C_position_1'] = 'Others'\n",
    "\n",
    "# C_position_category one_hot_encoding\n",
    "X_encoded = pd.get_dummies(X, columns=['C_position_1'])\n",
    "X_test_encoded = pd.get_dummies(X_test, columns=['C_position_1'])"
   ]
  },
  {
   "cell_type": "code",
   "execution_count": 15,
   "id": "f7bebee0",
   "metadata": {},
   "outputs": [],
   "source": [
    "col =['C_position_1_High Executive', 'C_position_1_Low Executive', 'C_position_1_Others']\n",
    "\n",
    "X[col] = X_encoded[col].astype(int)\n",
    "X_test[col] = X_test_encoded[col].astype(int)"
   ]
  },
  {
   "cell_type": "code",
   "execution_count": 16,
   "id": "2d9ef833",
   "metadata": {},
   "outputs": [],
   "source": [
    "# 기존 열 drop\n",
    "X.drop(['C_position_1'], axis=1, inplace=True)\n",
    "X.drop(['customer_position'], axis=1, inplace=True)\n",
    "\n",
    "X_test.drop(['C_position_1'], axis=1, inplace=True)\n",
    "X_test.drop(['customer_position'], axis=1, inplace=True)"
   ]
  },
  {
   "cell_type": "markdown",
   "id": "77b4eb72",
   "metadata": {},
   "source": [
    "### Feature: Customer Job (\"customer_job\")"
   ]
  },
  {
   "cell_type": "code",
   "execution_count": 17,
   "id": "398170dd",
   "metadata": {},
   "outputs": [],
   "source": [
    "# engineer category\n",
    "C_job_engineer = []\n",
    "for job in df_train['customer_job'].unique():\n",
    "    if isinstance(job, str) and 'engineer' in job.lower().replace(\" \", \"\").lower():\n",
    "        C_job_engineer.append(job)\n",
    "\n",
    "# tech & IT category\n",
    "C_job_tech = []\n",
    "for job in df_train['customer_job'].unique():\n",
    "    if isinstance(job, str) and ('tech' in job.lower().replace(\" \", \"\").lower()\n",
    "                                or 'IT' in job.lower().replace(\" \", \"\").lower()\n",
    "                                or 'software' in job.lower().replace(\" \", \"\").lower()):\n",
    "        C_job_tech.append(job)\n",
    "              \n",
    "# high_executive category\n",
    "C_job_high_executive = []\n",
    "for job in df_train['customer_job'].unique():\n",
    "    if isinstance(job, str) and ('admin' in job.lower().replace(\" \", \"\").lower()\n",
    "                                or 'entrepreneurship' in job.lower().replace(\" \", \"\").lower()\n",
    "                                or 'executive' in job.lower().replace(\" \", \"\").lower()\n",
    "                                or 'owner' in job.lower().replace(\" \", \"\").lower() \n",
    "                                or 'manage' in job.lower().replace(\" \", \"\").lower()\n",
    "                                or 'president' in job.lower().replace(\" \", \"\").lower()\n",
    "                                or 'CEO' in job.lower().replace(\" \",\"\").lower()):\n",
    "        C_job_high_executive.append(job)\n",
    "\n",
    "# low_executive category\n",
    "C_job_low_executive = []\n",
    "for job in df_train['customer_job'].unique():\n",
    "    if isinstance(job, str) and ('operations' in job.lower().replace(\" \", \"\").lower() \n",
    "                                or 'sale' in job.lower().replace(\" \", \"\").lower()\n",
    "                                or 'marketing' in job.lower().replace(\" \", \"\").lower()\n",
    "                                or 'business' in job.lower().replace(\" \",\"\").lower()):\n",
    "        C_job_low_executive.append(job)  \n",
    "\n",
    "# education category\n",
    "C_job_education = []\n",
    "for job in df_train['customer_job'].unique():\n",
    "    if isinstance(job, str) and ('education' in job.lower().replace(\" \", \"\").lower() \n",
    "                                 or 'professor' in job.lower().replace(\" \", \"\").lower()\n",
    "                                 or 'educator' in job.lower().replace(\" \", \"\").lower()\n",
    "                                 or 'teach' in job.lower().replace(\" \", \"\").lower()):\n",
    "        C_job_education.append(job)\n",
    "\n",
    "# design category\n",
    "C_job_design = []\n",
    "for job in df_train['customer_job'].unique():\n",
    "    if isinstance(job, str) and ('art' in job.lower().replace(\" \", \"\").lower() \n",
    "                                 or 'design' in job.lower().replace(\" \", \"\").lower()):\n",
    "        C_job_design.append(job)\n",
    "\n",
    "# medical category\n",
    "C_job_medical = []\n",
    "for job in df_train['customer_job'].unique():\n",
    "    if isinstance(job, str) and ('medical' in job.lower().replace(\" \", \"\").lower() \n",
    "                                 or 'health' in job.lower().replace(\" \", \"\").lower()\n",
    "                                 or 'care' in job.lower().replace(\" \", \"\").lower()):\n",
    "        C_job_medical.append(job)\n",
    "        \n",
    "# NaN category\n",
    "C_job_NaN = []\n",
    "for job in df_train['customer_job'].unique():\n",
    "    if pd.isna(job):\n",
    "        C_job_NaN.append(job)\n",
    "\n",
    "# Other category\n",
    "C_job_other = []\n",
    "for job in df_train['customer_job'].unique():\n",
    "    if isinstance(job, str) and job not in C_job_engineer + C_job_tech + C_job_high_executive +C_job_medical + C_job_low_executive + C_job_education + C_job_design:\n",
    "        C_job_other.append(job)\n"
   ]
  },
  {
   "cell_type": "code",
   "execution_count": 18,
   "id": "7e28e644",
   "metadata": {},
   "outputs": [],
   "source": [
    "job_category = {\n",
    "    'Engineer': C_job_engineer,\n",
    "    'Tech & IT': C_job_tech,\n",
    "    'high_executive': C_job_high_executive,\n",
    "    'low_executive': C_job_low_executive,\n",
    "    'Education': C_job_education,\n",
    "    'Design': C_job_design,\n",
    "    'Medical': C_job_medical,\n",
    "    'NaN': C_job_NaN,\n",
    "    'Other': C_job_other\n",
    "}\n",
    "\n",
    "for category, jobs in job_category.items():\n",
    "    X.loc[df_train['customer_job'].isin(jobs), 'C_job_category'] = category\n",
    "    X_test.loc[df_test['customer_job'].isin(jobs), 'C_job_category'] = category\n",
    "\n",
    "    \n",
    "# C_job_category one_hot_encoding\n",
    "X_encoded = pd.get_dummies(X, columns=['C_job_category'])\n",
    "X_test_encoded = pd.get_dummies(X_test, columns=['C_job_category'])\n",
    "\n",
    "col =['C_job_category_low_executive', 'C_job_category_high_executive', 'C_job_category_Engineer', 'C_job_category_Education',\n",
    "     'C_job_category_Tech & IT', 'C_job_category_Design', 'C_job_category_Medical', 'C_job_category_Other', 'C_job_category_NaN']\n",
    "\n",
    "\n",
    "\n",
    "X[col] = X_encoded[col].astype(int)\n",
    "X_test[col] = X_test_encoded[col].astype(int)\n",
    "\n",
    "\n",
    "# 기존 열 drop\n",
    "X.drop(['C_job_category'], axis=1, inplace=True)\n",
    "X.drop(['customer_job'], axis=1, inplace=True)\n",
    "\n",
    "X_test.drop(['C_job_category'], axis=1, inplace=True)\n",
    "X_test.drop(['customer_job'], axis=1, inplace=True)\n",
    "\n",
    "# 결측치 처리\n",
    "X.loc[X['C_job_category_NaN'] == 1, 'C_job_category_Other'] = 1\n",
    "X.drop(['C_job_category_NaN'], axis=1, inplace=True)\n",
    "X_test.loc[X_test['C_job_category_NaN'] == 1, 'C_job_category_Other'] = 1\n",
    "X_test.drop(['C_job_category_NaN'], axis=1, inplace=True)"
   ]
  },
  {
   "cell_type": "markdown",
   "id": "d8636ffc",
   "metadata": {},
   "source": [
    "### Feature: Response Corporate (\"corporate_category\")"
   ]
  },
  {
   "cell_type": "code",
   "execution_count": 19,
   "id": "56c6a583",
   "metadata": {},
   "outputs": [],
   "source": [
    "def label_encoding(series: pd.Series) -> pd.Series:\n",
    "    my_dict = {}\n",
    "\n",
    "    # 모든 요소를 문자열로 변환\n",
    "    series = series.astype(str)\n",
    "\n",
    "    for idx, value in enumerate(sorted(series.unique())):\n",
    "        my_dict[value] = idx\n",
    "    series = series.map(my_dict)\n",
    "\n",
    "    return series\n",
    "\n",
    "def categorize(num):\n",
    "    if num > 4000:\n",
    "        return 'converted_high'\n",
    "    elif num > 288:\n",
    "        return 'converted_middle'\n",
    "    else:\n",
    "        return 'converted_low'"
   ]
  },
  {
   "cell_type": "code",
   "execution_count": 20,
   "id": "18d7d5f4",
   "metadata": {},
   "outputs": [],
   "source": [
    "converted_counts = X.groupby('response_corporate').size().to_dict()\n",
    "X['response_corporate_num'] = X['response_corporate'].map(converted_counts).fillna(0).astype(int)\n",
    "X['corporate_converted_category'] = X['response_corporate_num'].apply(categorize)\n",
    "\n",
    "converted_counts = X_test.groupby('response_corporate').size().to_dict()\n",
    "X_test['response_corporate_num'] = X_test['response_corporate'].map(converted_counts).fillna(0).astype(int)\n",
    "X_test['corporate_converted_category'] = X_test['response_corporate_num'].apply(categorize)\n"
   ]
  },
  {
   "cell_type": "code",
   "execution_count": 21,
   "id": "fcb0e9df",
   "metadata": {},
   "outputs": [],
   "source": [
    "X['corporate_category'] = label_encoding(X[\"corporate_converted_category\"])\n",
    "X_test['corporate_category'] = label_encoding(X_test[\"corporate_converted_category\"])"
   ]
  },
  {
   "cell_type": "code",
   "execution_count": 22,
   "id": "d8274c09",
   "metadata": {},
   "outputs": [],
   "source": [
    "del X['corporate_converted_category']\n",
    "del X_test['corporate_converted_category']"
   ]
  },
  {
   "cell_type": "code",
   "execution_count": null,
   "id": "0979c88a",
   "metadata": {},
   "outputs": [],
   "source": []
  },
  {
   "cell_type": "markdown",
   "id": "f6eda8b3",
   "metadata": {
    "cell_marker": "\"\"\""
   },
   "source": [
    "## 3. Feature Engineering"
   ]
  },
  {
   "cell_type": "code",
   "execution_count": 23,
   "id": "4f786692",
   "metadata": {},
   "outputs": [],
   "source": [
    "country_frequency = X[\"customer_country\"].value_counts(normalize=True)\n",
    "X[\"customer_country_frequency\"] = X[\"customer_country\"].map(country_frequency)\n",
    "X_test[\"customer_country_frequency\"] = X_test[\"customer_country\"].map(country_frequency)\n",
    "\n",
    "country_target = (\n",
    "    pd.concat([X, y], axis=1).groupby(\"customer_country\")[\"is_converted\"].mean()\n",
    ")\n",
    "X[\"customer_country_target\"] = X[\"customer_country\"].map(country_target)\n",
    "X_test[\"customer_country_target\"] = X_test[\"customer_country\"].map(country_target)\n",
    "\n",
    "owner_frequency = X[\"lead_owner\"].value_counts(normalize=True)\n",
    "X[\"lead_owner_frequency\"] = X[\"lead_owner\"].map(owner_frequency)\n",
    "X_test[\"lead_owner_frequency\"] = X_test[\"lead_owner\"].map(owner_frequency)\n",
    "\n",
    "owner_target = pd.concat([X, y], axis=1).groupby(\"lead_owner\")[\"is_converted\"].mean()\n",
    "X[\"lead_owner_target\"] = X[\"lead_owner\"].map(owner_target)\n",
    "X_test[\"lead_owner_target\"] = X_test[\"lead_owner\"].map(owner_target)\n",
    "\n",
    "# business_weight\n",
    "business_weight = {\n",
    "    \"ID\": 0.064566116,\n",
    "    \"AS\": 0.026845638,\n",
    "    \"IT\": 0,\n",
    "    \"Solution\": 0.034482759,\n",
    "    \"CM\": 0,\n",
    "}\n",
    "\n",
    "\n",
    "#map with business unit\n",
    "X['business_weight'] = X.apply(lambda row: business_weight.get(row['business_unit'], 0) if row['id_strategic_ver'] == 1 else 0, axis=1)\n",
    "X_test[\"business_weight\"] = X_test['business_unit'].map(business_weight).fillna(0)\n"
   ]
  },
  {
   "cell_type": "code",
   "execution_count": 24,
   "id": "0ed7e27c",
   "metadata": {},
   "outputs": [],
   "source": [
    "# vertical level\n",
    "X['vertical_level1'] = X['business_area'].apply(lambda x: 1 if x in ['hotel & accommodation', 'corporate / office', 'retail', 'education'] else 0)\n",
    "X_test['vertical_level1'] = X_test['business_area'].apply(lambda x: 1 if x in ['hotel & accommodation', 'corporate / office', 'retail', 'education'] else 0)\n"
   ]
  },
  {
   "cell_type": "code",
   "execution_count": 25,
   "id": "f23d219b",
   "metadata": {},
   "outputs": [],
   "source": [
    "# vertical level\n",
    "X['vertical_level1'] = X['business_area'].apply(lambda x: 1 if x in ['hotel & accommodation', 'corporate / office', 'retail', 'education'] else 0)\n",
    "X_test['vertical_level1'] = X_test['business_area'].apply(lambda x: 1 if x in ['hotel & accommodation', 'corporate / office', 'retail', 'education'] else 0)\n",
    "\n",
    "\n",
    "# target_customer\n",
    "X['target_customer'] = X['customer_type'].apply(lambda x: 1 if x in ['End-Customer', 'End Customer', 'End-user', 'Commercial end-user'] else 0)\n",
    "X_test['target_customer'] = X_test['customer_type'].apply(lambda x: 1 if x in ['End-Customer', 'End Customer', 'End-user', 'Commercial end-user'] else 0)\n",
    "\n",
    "# target_product\n",
    "X['target_product'] = X['product_category'].apply(lambda x: 1 if x in ['standard signage', 'high brightness signage', 'interactive signage', 'video wall signage', 'led signage', 'signage care solution', 'oled signage', 'special signage', 'uhd signage', 'smart tv signage', 'signage care solutions', 'digital signage', 'monitor signage,commercial tv,monior/monitor tv', 'monitor signage,monior/monitor tv', 'monitor signage,commercial tv,monior/monitor tv,projector,tv', 'monitor signage,commercial tv,monior/monitor tv,tv', 'monitor signage,commercial tv,solar,ess,monior/monitor tv,pc,projector,robot,system ac,ems,rac,chill', 'tv signage', 'ultra stretch signage', 'monitor signage,commercial tv,monior/monitor tv,pc,tv,home beauty,audio/video', 'monitor signage,monior/monitor tv,tv,audio/video', 'hotel tv', 'signage', 'monitor signage,tv', 'monitor signage,monior/monitor tv,vacuum cleaner,tv,home beauty,commercial tv,pc,refrigerator,styler'] else 0)\n",
    "X_test['target_product'] = X_test['product_category'].apply(lambda x: 1 if x in ['standard signage', 'high brightness signage', 'interactive signage', 'video wall signage', 'led signage', 'signage care solution', 'oled signage', 'special signage', 'uhd signage', 'smart tv signage', 'signage care solutions', 'digital signage', 'monitor signage,commercial tv,monior/monitor tv', 'monitor signage,monior/monitor tv', 'monitor signage,commercial tv,monior/monitor tv,projector,tv', 'monitor signage,commercial tv,monior/monitor tv,tv', 'monitor signage,commercial tv,solar,ess,monior/monitor tv,pc,projector,robot,system ac,ems,rac,chill', 'tv signage', 'ultra stretch signage', 'monitor signage,commercial tv,monior/monitor tv,pc,tv,home beauty,audio/video', 'monitor signage,monior/monitor tv,tv,audio/video', 'hotel tv', 'signage', 'monitor signage,tv', 'monitor signage,monior/monitor tv,vacuum cleaner,tv,home beauty,commercial tv,pc,refrigerator,styler'] else 0)\n"
   ]
  },
  {
   "cell_type": "code",
   "execution_count": 26,
   "id": "5cdbe3bd",
   "metadata": {},
   "outputs": [],
   "source": [
    "# target_product\n",
    "X['target_product'] = X['product_category'].apply(lambda x: 1 if x in ['standard signage', 'high brightness signage', 'interactive signage', 'video wall signage', 'led signage', 'signage care solution', 'oled signage', 'special signage', 'uhd signage', 'smart tv signage', 'signage care solutions', 'digital signage', 'monitor signage,commercial tv,monior/monitor tv', 'monitor signage,monior/monitor tv', 'monitor signage,commercial tv,monior/monitor tv,projector,tv', 'monitor signage,commercial tv,monior/monitor tv,tv', 'monitor signage,commercial tv,solar,ess,monior/monitor tv,pc,projector,robot,system ac,ems,rac,chill', 'tv signage', 'ultra stretch signage', 'monitor signage,commercial tv,monior/monitor tv,pc,tv,home beauty,audio/video', 'monitor signage,monior/monitor tv,tv,audio/video', 'hotel tv', 'signage', 'monitor signage,tv', 'monitor signage,monior/monitor tv,vacuum cleaner,tv,home beauty,commercial tv,pc,refrigerator,styler'] else 0)\n",
    "X_test['target_product'] = X_test['product_category'].apply(lambda x: 1 if x in ['standard signage', 'high brightness signage', 'interactive signage', 'video wall signage', 'led signage', 'signage care solution', 'oled signage', 'special signage', 'uhd signage', 'smart tv signage', 'signage care solutions', 'digital signage', 'monitor signage,commercial tv,monior/monitor tv', 'monitor signage,monior/monitor tv', 'monitor signage,commercial tv,monior/monitor tv,projector,tv', 'monitor signage,commercial tv,monior/monitor tv,tv', 'monitor signage,commercial tv,solar,ess,monior/monitor tv,pc,projector,robot,system ac,ems,rac,chill', 'tv signage', 'ultra stretch signage', 'monitor signage,commercial tv,monior/monitor tv,pc,tv,home beauty,audio/video', 'monitor signage,monior/monitor tv,tv,audio/video', 'hotel tv', 'signage', 'monitor signage,tv', 'monitor signage,monior/monitor tv,vacuum cleaner,tv,home beauty,commercial tv,pc,refrigerator,styler'] else 0)\n"
   ]
  },
  {
   "cell_type": "markdown",
   "id": "50de48ce",
   "metadata": {
    "cell_marker": "\"\"\""
   },
   "source": [
    "## 4. Feature Encoding"
   ]
  },
  {
   "cell_type": "code",
   "execution_count": 27,
   "id": "6196f8c2",
   "metadata": {},
   "outputs": [],
   "source": [
    "def encode_features(\n",
    "    df: pd.DataFrame,\n",
    "    features=[\n",
    "        \"enterprise\",\n",
    "        \"business_unit\",\n",
    "        \"inquiry_type\",\n",
    "    ],\n",
    ") -> pd.DataFrame:\n",
    "    df_encoded = pd.get_dummies(df[features], columns=features)\n",
    "    df_encoded = df_encoded.apply(lambda x: x.astype(\"category\").cat.codes)\n",
    "    df = pd.concat([df, df_encoded], axis=1).drop(features, axis=1)\n",
    "    return df\n",
    "\n",
    "\n",
    "X = encode_features(X)\n",
    "X_test = encode_features(X_test)"
   ]
  },
  {
   "cell_type": "markdown",
   "id": "6bff3545",
   "metadata": {
    "cell_marker": "\"\"\""
   },
   "source": [
    "## 5. Outlier Removal"
   ]
  },
  {
   "cell_type": "code",
   "execution_count": 28,
   "id": "c104a8a8",
   "metadata": {},
   "outputs": [],
   "source": [
    "# Q1 = X[\"historical_existing_cnt\"].quantile(0.25)\n",
    "# Q3 = X[\"historical_existing_cnt\"].quantile(0.75)\n",
    "# IQR = Q3 - Q1\n",
    "\n",
    "# lower_bound = Q1 - 1.5 * IQR\n",
    "# upper_bound = Q3 + 1.5 * IQR\n",
    "\n",
    "# df = pd.concat([X, pd.DataFrame({\"is_converted\": y})], axis=1)\n",
    "# df = df[\n",
    "#     (df[\"historical_existing_cnt\"] >= lower_bound)\n",
    "#     & (df[\"historical_existing_cnt\"] <= upper_bound)\n"
   ]
  },
  {
   "cell_type": "markdown",
   "id": "ffd71216",
   "metadata": {
    "cell_marker": "\"\"\""
   },
   "source": [
    "## 6. Feature Normalization"
   ]
  },
  {
   "cell_type": "code",
   "execution_count": 29,
   "id": "4d4caa79",
   "metadata": {},
   "outputs": [],
   "source": [
    "standard_transformer = Pipeline(steps=[(\"standardize\", StandardScaler())])\n",
    "column_transformer = ColumnTransformer(\n",
    "    transformers=[\n",
    "        (\n",
    "            \"std\",\n",
    "            standard_transformer,\n",
    "            [\n",
    "                \"lead_desc_length\",\n",
    "                \"historical_existing_cnt\",\n",
    "                \"bant_submit\",\n",
    "                \"expected_timeline\",\n",
    "            ],\n",
    "        ),\n",
    "    ],\n",
    "    verbose_feature_names_out=False,\n",
    "    remainder=\"passthrough\",\n",
    ")\n",
    "column_transformer.set_output(transform=\"pandas\")\n",
    "\n",
    "X = column_transformer.fit_transform(X)\n",
    "X_test = column_transformer.transform(X_test)"
   ]
  },
  {
   "cell_type": "markdown",
   "id": "9fbe46c2",
   "metadata": {
    "cell_marker": "\"\"\""
   },
   "source": [
    "## 7. Feature Removal"
   ]
  },
  {
   "cell_type": "code",
   "execution_count": 30,
   "id": "a978e625",
   "metadata": {},
   "outputs": [],
   "source": [
    "features_to_drop = [\n",
    "    \"response_corporate_num\",\n",
    "    # \"id_strategic_ver\",\n",
    "    \"it_strategic_ver\",\n",
    "    \"idit_strategic_ver\",\n",
    "    \"response_corporate_num\",\n",
    "    \"lead_owner\",\n",
    "    # \"lead_owner_frequency\",\n",
    "    \"customer_country.1\",\n",
    "    'product_subcategory',\n",
    "    \"product_modelname\",\n",
    "    \"business_subarea\",\n",
    "    'response_corporate',\n",
    "    'customer_country',\n",
    "    \"customer_type\",\n",
    "    \"product_category\",\n",
    "    \"business_area\",\n",
    "    \"customer_idx\",\n",
    "#     'ver_cus',\n",
    "#     'ver_pro',\n",
    "    #'com_reg_ver_win_rate',\n",
    "    #'ver_win_rate_x',\n",
    "    #'ver_win_ratio_per_bu'\n",
    "    \n",
    "]\n",
    "\n",
    "X = X.drop(features_to_drop, axis=1)  # type: ignore\n",
    "X_test = X_test.drop(features_to_drop, axis=1)  # type: ignore"
   ]
  },
  {
   "cell_type": "code",
   "execution_count": 31,
   "id": "8bd340d8",
   "metadata": {},
   "outputs": [],
   "source": [
    "X_1 = X.copy()\n",
    "X_2 = X_test.copy()"
   ]
  },
  {
   "cell_type": "markdown",
   "id": "c86a1706",
   "metadata": {},
   "source": [
    "# !!!!!!!!!!!!!!!!!!"
   ]
  },
  {
   "cell_type": "code",
   "execution_count": 32,
   "id": "0ab74f58",
   "metadata": {},
   "outputs": [],
   "source": [
    "###########\n",
    "#여기\n",
    "###########"
   ]
  },
  {
   "cell_type": "code",
   "execution_count": 33,
   "id": "f664e1b4",
   "metadata": {},
   "outputs": [],
   "source": [
    "X = X_1.copy()\n",
    "X_test = X_2.copy()"
   ]
  },
  {
   "cell_type": "code",
   "execution_count": 34,
   "id": "04c04e15",
   "metadata": {},
   "outputs": [
    {
     "data": {
      "text/plain": [
       "Index(['lead_desc_length', 'historical_existing_cnt', 'bant_submit',\n",
       "       'expected_timeline', 'com_reg_ver_win_rate', 'id_strategic_ver',\n",
       "       'ver_cus', 'ver_pro', 'ver_win_rate_x', 'ver_win_ratio_per_bu',\n",
       "       'C_position_1_High Executive', 'C_position_1_Low Executive',\n",
       "       'C_position_1_Others', 'C_job_category_low_executive',\n",
       "       'C_job_category_high_executive', 'C_job_category_Engineer',\n",
       "       'C_job_category_Education', 'C_job_category_Tech & IT',\n",
       "       'C_job_category_Design', 'C_job_category_Medical',\n",
       "       'C_job_category_Other', 'corporate_category',\n",
       "       'customer_country_frequency', 'customer_country_target',\n",
       "       'lead_owner_frequency', 'lead_owner_target', 'business_weight',\n",
       "       'vertical_level1', 'target_customer', 'target_product',\n",
       "       'enterprise_Enterprise', 'enterprise_SMB', 'business_unit_ID',\n",
       "       'business_unit_AS', 'business_unit_IT', 'business_unit_Solution',\n",
       "       'business_unit_CM', 'inquiry_type_O', 'inquiry_type_Q',\n",
       "       'inquiry_type_U'],\n",
       "      dtype='object')"
      ]
     },
     "execution_count": 34,
     "metadata": {},
     "output_type": "execute_result"
    }
   ],
   "source": [
    "X.columns"
   ]
  },
  {
   "cell_type": "code",
   "execution_count": 35,
   "id": "b102dfe0",
   "metadata": {},
   "outputs": [
    {
     "data": {
      "text/plain": [
       "['lead_desc_length',\n",
       " 'historical_existing_cnt',\n",
       " 'ver_win_rate_x',\n",
       " 'lead_owner_target']"
      ]
     },
     "execution_count": 35,
     "metadata": {},
     "output_type": "execute_result"
    }
   ],
   "source": [
    "# expected_timeline - 1450~\n",
    "# vertical+ver_cus_ver_pro - 1470~\n",
    "\n",
    "high_importance_columns = [\n",
    "    \"lead_owner_target\",\n",
    "    \"lead_desc_length\",\n",
    "    \"historical_existing_cnt\",\n",
    "    \"ver_win_rate_x\"\n",
    "    \n",
    "#     'budget',\n",
    "#     'C_position_1_High Executive',\n",
    "#     'C_position_1_Low Executive',\n",
    "#     'C_position_1_Others',\n",
    "#     'expected_timeline',\n",
    "#     'inquiry_type_O', \n",
    "#     'inquiry_type_Q',\n",
    "#     'inquiry_type_U'\n",
    "    \n",
    "    \n",
    "    \n",
    "    \n",
    "\n",
    "]\n",
    "\n",
    "additional_drop_columns = [\n",
    "    col\n",
    "    for col in X.columns\n",
    "    if col not in high_importance_columns\n",
    "]\n",
    "\n",
    "X = X.drop(additional_drop_columns, axis=1)\n",
    "X_test = X_test.drop(additional_drop_columns, axis=1)\n",
    "\n",
    "X.columns.tolist()"
   ]
  },
  {
   "cell_type": "markdown",
   "id": "8ec0b8d4",
   "metadata": {},
   "source": [
    "### 이상치 처리"
   ]
  },
  {
   "cell_type": "code",
   "execution_count": 36,
   "id": "007a64b8",
   "metadata": {
    "scrolled": true
   },
   "outputs": [
    {
     "data": {
      "image/png": "[encoded data removed]",
      "text/plain": [
       "<Figure size 2000x2000 with 4 Axes>"
      ]
     },
     "metadata": {},
     "output_type": "display_data"
    }
   ],
   "source": [
    "import matplotlib.pyplot as plt\n",
    "import seaborn as sns\n",
    "\n",
    "fig, axes = plt.subplots(2, 2, figsize=(20, 20))\n",
    "fig.suptitle('Boxplot of features', fontsize=30)\n",
    "sns.set_style('whitegrid')\n",
    "\n",
    "column_idx = 0\n",
    "for i in range(2):\n",
    "    for j in range(2):\n",
    "        sns.boxplot(y=X.iloc[:, column_idx], notch=True, color='skyblue', width=0.3, ax=axes[i][j]).set_title(X.columns[column_idx], fontsize=15)\n",
    "        axes[i][j].set_ylabel('')\n",
    "        column_idx += 1"
   ]
  },
  {
   "cell_type": "code",
   "execution_count": 37,
   "id": "ec7064ad",
   "metadata": {},
   "outputs": [],
   "source": [
    "outlier_features = ['historical_existing_cnt','ver_win_rate_x']"
   ]
  },
  {
   "cell_type": "code",
   "execution_count": 38,
   "id": "6ebc267e",
   "metadata": {},
   "outputs": [],
   "source": [
    "X.loc[X[\"historical_existing_cnt\"] > 20, \"historical_existing_cnt\"] = 20 + np.log(1 + 10 * X.loc[X[\"historical_existing_cnt\"] > 20, \"historical_existing_cnt\"])\n",
    "X_test.loc[X_test[\"historical_existing_cnt\"] > 0, \"historical_existing_cnt\"] = 20 + np.log(1 + 10 * X_test.loc[X_test[\"historical_existing_cnt\"] > 20, \"historical_existing_cnt\"])\n",
    "\n",
    "# 다시 소수점을 나누기\n",
    "X.loc[X[\"historical_existing_cnt\"] > 20, \"historical_existing_cnt\"] = X.loc[X[\"historical_existing_cnt\"] > 20, \"historical_existing_cnt\"] / 10\n",
    "X_test.loc[X_test[\"historical_existing_cnt\"] > 20, \"historical_existing_cnt\"] = X_test.loc[X_test[\"historical_existing_cnt\"] > 20, \"historical_existing_cnt\"] / 10\n"
   ]
  },
  {
   "cell_type": "code",
   "execution_count": 39,
   "id": "74be5338",
   "metadata": {},
   "outputs": [],
   "source": [
    "X.loc[X[\"ver_win_rate_x\"] > 0.003, \"ver_win_rate_x\"] = 0.0015\n",
    "X_test.loc[X_test[\"ver_win_rate_x\"] > 0.003, \"ver_win_rate_x\"] = 0.0015"
   ]
  },
  {
   "cell_type": "markdown",
   "id": "b5cc0b66",
   "metadata": {},
   "source": [
    "### 편향데이터 로그화 -> True수 변화 X, 로컬점수 변화 X"
   ]
  },
  {
   "cell_type": "code",
   "execution_count": 40,
   "id": "ea0af21e",
   "metadata": {
    "scrolled": true
   },
   "outputs": [],
   "source": [
    "# merged = pd.concat([X[['historical_existing_cnt', 'lead_desc_length', 'ver_win_rate_x', 'lead_owner_target']], df_train[['is_converted']]], axis=1)\n",
    "\n",
    "# features = ['historical_existing_cnt', 'lead_desc_length', 'ver_win_rate_x', 'lead_owner_target']\n",
    "\n",
    "# fig, axes = plt.subplots(2, 2, figsize=(20, 10), sharey=False)\n",
    "\n",
    "# for i, col in enumerate(features):\n",
    "#     sns.kdeplot(data=merged, x=col, hue=\"is_converted\", ax=axes[i//2, i%2])\n",
    "\n",
    "# plt.show()\n"
   ]
  },
  {
   "cell_type": "code",
   "execution_count": 41,
   "id": "948bbee3",
   "metadata": {},
   "outputs": [],
   "source": [
    "# X[features] = np.log1p(X[features])\n",
    "# X_test[features] = np.log1p(X_test[features])"
   ]
  },
  {
   "cell_type": "markdown",
   "id": "33eb3494",
   "metadata": {},
   "source": [
    "### 연관성 높은걸로 파생변수"
   ]
  },
  {
   "cell_type": "code",
   "execution_count": 42,
   "id": "9879a86c",
   "metadata": {},
   "outputs": [],
   "source": [
    "# import seaborn as sns\n",
    "\n",
    "# corr = X.corr()\n",
    "# plt.figure(figsize=(19, 5))\n",
    "\n",
    "# #히트맵 생성\n",
    "# ax = sns.heatmap(\n",
    "#     corr, \n",
    "#     vmin=-1, vmax=1, center=0, #색상 -1 ~ 1 까지\n",
    "#     cmap=sns.diverging_palette(20, 220, n=200),   # 색상 맵 지정\n",
    "#     square=True, #정사각형으로 표현\n",
    "#     annot=True   # 셀에 상관계수 값 표시\n",
    "# )\n",
    "\n",
    "# # X축 눈금 꾸미기\n",
    "# ax.set_xticklabels(\n",
    "#     ax.get_xticklabels(),\n",
    "#     rotation=45,\n",
    "#     horizontalalignment='right'\n",
    "# )\n",
    "\n",
    "# plt.title('Correlation heatmap', fontsize=30)\n",
    "# plt.show()"
   ]
  },
  {
   "cell_type": "code",
   "execution_count": 43,
   "id": "d06ace31",
   "metadata": {},
   "outputs": [],
   "source": [
    "# X['ver_pro_ver_win_rate_X'] = X['ver_win_rate_x']*X['ver_pro']\n",
    "# X['ver_cus_ver_win_rate_X'] = X['ver_win_rate_x']*X['ver_cus']\n",
    "\n",
    "# X_test['ver_pro_ver_win_rate_X'] = X_test['ver_win_rate_x']*X_test['ver_pro']\n",
    "# X_test['ver_cus_ver_win_rate_X'] = X_test['ver_win_rate_x']*X_test['ver_cus']\n"
   ]
  },
  {
   "cell_type": "markdown",
   "id": "805a8891",
   "metadata": {},
   "source": [
    "### 상관관계로 파생변수 생성"
   ]
  },
  {
   "cell_type": "code",
   "execution_count": 44,
   "id": "dcbfe7b6",
   "metadata": {},
   "outputs": [],
   "source": [
    "# from tabulate import tabulate\n",
    "# merged = pd.concat([X[['historical_existing_cnt', 'lead_desc_length', 'ver_win_rate_x', 'lead_owner_target']], df_train[['is_converted']]], axis=1)\n",
    "\n",
    "# output_table = []\n",
    "\n",
    "# types = merged[\"historical_existing_cnt\"].value_counts().index[:10]  # 상위 10개만 선택\n",
    "\n",
    "# dfs = [merged[merged[\"historical_existing_cnt\"] == types[i]] for i in range(len(types))]\n",
    "\n",
    "# for i, df in enumerate(dfs):\n",
    "#   output_table.append([types[i],\n",
    "#                       f'{round((len(df) / len(merged)) * 100, 2)}%',\n",
    "#                       round(df[\"is_converted\"].value_counts(normalize=True) * 100, 2).astype(\"str\") + \"%\"])\n",
    "\n",
    "# print(tabulate(output_table, headers=['historical_existing_cnt', 'Proportion', 'is_converted'], tablefmt='grid'))\n"
   ]
  },
  {
   "cell_type": "code",
   "execution_count": 45,
   "id": "c570321a",
   "metadata": {},
   "outputs": [],
   "source": [
    "# X['historical_existing_cnt'] = (X['historical_existing_cnt'] == '-0.113334')\n",
    "# X_test['historical_existing_cnt'] = (X_test['historical_existing_cnt'] == '-0.113334')"
   ]
  },
  {
   "cell_type": "code",
   "execution_count": null,
   "id": "b7faae43",
   "metadata": {},
   "outputs": [],
   "source": []
  },
  {
   "cell_type": "code",
   "execution_count": null,
   "id": "c7ea1d87",
   "metadata": {},
   "outputs": [],
   "source": []
  },
  {
   "cell_type": "code",
   "execution_count": null,
   "id": "fd70cce8",
   "metadata": {},
   "outputs": [],
   "source": []
  },
  {
   "cell_type": "code",
   "execution_count": null,
   "id": "3f4734f7",
   "metadata": {},
   "outputs": [],
   "source": []
  },
  {
   "cell_type": "code",
   "execution_count": null,
   "id": "32d903e4",
   "metadata": {},
   "outputs": [],
   "source": []
  },
  {
   "cell_type": "markdown",
   "id": "abc52c62",
   "metadata": {
    "cell_marker": "\"\"\""
   },
   "source": [
    "# Hyperparameter Tuning"
   ]
  },
  {
   "cell_type": "code",
   "execution_count": 46,
   "id": "01a8dfd7",
   "metadata": {},
   "outputs": [],
   "source": [
    "def build_catboost_params(trial):\n",
    "    return {\n",
    "        \"iterations\": trial.suggest_int(\"cat__iterations\", 500, 1500),\n",
    "        \"learning_rate\": trial.suggest_float(\"cat__learning_rate\", 1e-3, 0.1),\n",
    "        \"depth\": trial.suggest_int(\"cat__depth\", 1, 10),\n",
    "        \"subsample\": trial.suggest_float(\"cat__subsample\", 0.05, 1.0),\n",
    "        \"colsample_bylevel\": trial.suggest_float(\"cat__colsample_bylevel\", 0.05, 1.0),\n",
    "        \"min_data_in_leaf\": trial.suggest_int(\"cat__min_data_in_leaf\", 1, 100),\n",
    "        \"verbose\": False,\n",
    "        \"random_state\": RANDOM_STATE,\n",
    "        \"auto_class_weights\": \"Balanced\",\n",
    "    }\n",
    "\n",
    "\n",
    "def optimize(X, y, n_trials) -> None:\n",
    "    def _optimize(trial, X, y):\n",
    "        model = CatBoostClassifier(**build_catboost_params(trial))\n",
    "        kfold, scores = StratifiedKFold(n_splits=5), []\n",
    "        for train_idx, val_idx in kfold.split(X, y):\n",
    "            X_train, y_train = X.iloc[train_idx], y.iloc[train_idx]\n",
    "            X_val, y_val = X.iloc[val_idx], y.iloc[val_idx]\n",
    "            model.fit(X_train, y_train)\n",
    "            prediction = model.predict(X_val)\n",
    "            prediction = np.where(prediction == \"True\", True, False)\n",
    "            scores.append(f1_score(y_val, prediction))\n",
    "        return np.mean(scores)\n",
    "\n",
    "    study = optuna.create_study(direction=\"maximize\")\n",
    "    study.optimize(\n",
    "        functools.partial(_optimize, X=X, y=y),  # type: ignore\n",
    "        n_trials=n_trials,\n",
    "        n_jobs=-1,\n",
    "        show_progress_bar=True,\n",
    "    )\n",
    "    joblib.dump(study, MODEL_FILE)\n",
    "\n",
    "\n",
    "if DO_OPTIMIZATION:\n",
    "    optimize(X, y, n_trials=1)"
   ]
  },
  {
   "cell_type": "markdown",
   "id": "6527c0f0",
   "metadata": {
    "cell_marker": "\"\"\""
   },
   "source": [
    "# Modeling"
   ]
  },
  {
   "cell_type": "code",
   "execution_count": 47,
   "id": "218a3017",
   "metadata": {},
   "outputs": [
    {
     "name": "stdout",
     "output_type": "stream",
     "text": [
      "lead_desc_length\n",
      "0   -0.130302\n",
      "1    0.126205\n",
      "2   -0.175568\n",
      "3   -0.266100\n",
      "4    0.133749\n",
      "Name: lead_desc_length, dtype: float64\n",
      "historical_existing_cnt\n",
      "0   -0.199877\n",
      "1    0.319377\n",
      "2    6.031173\n",
      "3   -0.199877\n",
      "4   -0.199877\n",
      "Name: historical_existing_cnt, dtype: float64\n",
      "ver_win_rate_x\n",
      "0    0.0015\n",
      "1    0.0015\n",
      "2    0.0015\n",
      "3    0.0015\n",
      "4    0.0015\n",
      "Name: ver_win_rate_x, dtype: float64\n",
      "lead_owner_target\n",
      "0    0.046620\n",
      "1    0.750000\n",
      "2    0.325000\n",
      "3    0.379310\n",
      "4    0.789474\n",
      "Name: lead_owner_target, dtype: float64\n"
     ]
    }
   ],
   "source": [
    "for col in X.columns:\n",
    "    print(col)\n",
    "    print(X[col].head())\n",
    "\n",
    "param_dict = {\n",
    "    \"cat\": {\n",
    "        \"verbose\": False,\n",
    "        \"random_state\": RANDOM_STATE,\n",
    "        \"auto_class_weights\": \"Balanced\",\n",
    "    },\n",
    "}\n",
    "\n",
    "if DO_OPTIMIZATION:\n",
    "    optimization_results = joblib.load(MODEL_FILE).best_trial.params\n",
    "    for key, value in optimization_results.items():\n",
    "        model, param = [x.strip() for x in key.split(\"__\")]\n",
    "        param_dict[model][param] = value\n",
    "\n",
    "model = CatBoostClassifier(**param_dict[\"cat\"])"
   ]
  },
  {
   "cell_type": "markdown",
   "id": "96f152dc",
   "metadata": {
    "cell_marker": "\"\"\""
   },
   "source": [
    "# K-Fold Cross Validation"
   ]
  },
  {
   "cell_type": "code",
   "execution_count": 48,
   "id": "f13be653",
   "metadata": {
    "scrolled": true
   },
   "outputs": [
    {
     "data": {
      "text/plain": [
       "['lead_desc_length',\n",
       " 'historical_existing_cnt',\n",
       " 'ver_win_rate_x',\n",
       " 'lead_owner_target']"
      ]
     },
     "execution_count": 48,
     "metadata": {},
     "output_type": "execute_result"
    }
   ],
   "source": [
    "X.columns.tolist()"
   ]
  },
  {
   "cell_type": "code",
   "execution_count": 49,
   "id": "54cd4e04",
   "metadata": {},
   "outputs": [
    {
     "name": "stdout",
     "output_type": "stream",
     "text": [
      "is_converted\n",
      "False    5271\n",
      "Name: count, dtype: int64\n"
     ]
    },
    {
     "data": {
      "text/html": [
       "<div>\n",
       "<style scoped>\n",
       "    .dataframe tbody tr th:only-of-type {\n",
       "        vertical-align: middle;\n",
       "    }\n",
       "\n",
       "    .dataframe tbody tr th {\n",
       "        vertical-align: top;\n",
       "    }\n",
       "\n",
       "    .dataframe thead th {\n",
       "        text-align: right;\n",
       "    }\n",
       "</style>\n",
       "<table border=\"1\" class=\"dataframe\">\n",
       "  <thead>\n",
       "    <tr style=\"text-align: right;\">\n",
       "      <th></th>\n",
       "      <th>id</th>\n",
       "      <th>bant_submit</th>\n",
       "      <th>customer_country</th>\n",
       "      <th>business_unit</th>\n",
       "      <th>com_reg_ver_win_rate</th>\n",
       "      <th>customer_idx</th>\n",
       "      <th>customer_type</th>\n",
       "      <th>enterprise</th>\n",
       "      <th>historical_existing_cnt</th>\n",
       "      <th>id_strategic_ver</th>\n",
       "      <th>...</th>\n",
       "      <th>response_corporate</th>\n",
       "      <th>expected_timeline</th>\n",
       "      <th>ver_cus</th>\n",
       "      <th>ver_pro</th>\n",
       "      <th>ver_win_rate_x</th>\n",
       "      <th>ver_win_ratio_per_bu</th>\n",
       "      <th>business_area</th>\n",
       "      <th>business_subarea</th>\n",
       "      <th>lead_owner</th>\n",
       "      <th>is_converted</th>\n",
       "    </tr>\n",
       "  </thead>\n",
       "  <tbody>\n",
       "    <tr>\n",
       "      <th>0</th>\n",
       "      <td>19844</td>\n",
       "      <td>0.00</td>\n",
       "      <td>/  / Brazil</td>\n",
       "      <td>ID</td>\n",
       "      <td>0.073248</td>\n",
       "      <td>47466</td>\n",
       "      <td>End Customer</td>\n",
       "      <td>Enterprise</td>\n",
       "      <td>53.0</td>\n",
       "      <td>NaN</td>\n",
       "      <td>...</td>\n",
       "      <td>LGESP</td>\n",
       "      <td>NaN</td>\n",
       "      <td>1</td>\n",
       "      <td>0</td>\n",
       "      <td>0.001183</td>\n",
       "      <td>0.049840</td>\n",
       "      <td>retail</td>\n",
       "      <td>Electronics &amp; Telco</td>\n",
       "      <td>278</td>\n",
       "      <td>False</td>\n",
       "    </tr>\n",
       "    <tr>\n",
       "      <th>1</th>\n",
       "      <td>9738</td>\n",
       "      <td>0.25</td>\n",
       "      <td>400 N State Of Franklin Rd  Cloud IT / Johnson...</td>\n",
       "      <td>IT</td>\n",
       "      <td>NaN</td>\n",
       "      <td>5405</td>\n",
       "      <td>End Customer</td>\n",
       "      <td>SMB</td>\n",
       "      <td>NaN</td>\n",
       "      <td>NaN</td>\n",
       "      <td>...</td>\n",
       "      <td>LGEUS</td>\n",
       "      <td>NaN</td>\n",
       "      <td>0</td>\n",
       "      <td>0</td>\n",
       "      <td>0.000013</td>\n",
       "      <td>NaN</td>\n",
       "      <td>transportation</td>\n",
       "      <td>Others</td>\n",
       "      <td>437</td>\n",
       "      <td>False</td>\n",
       "    </tr>\n",
       "    <tr>\n",
       "      <th>2</th>\n",
       "      <td>8491</td>\n",
       "      <td>1.00</td>\n",
       "      <td>/  / U.A.E</td>\n",
       "      <td>ID</td>\n",
       "      <td>NaN</td>\n",
       "      <td>13597</td>\n",
       "      <td>Specifier/ Influencer</td>\n",
       "      <td>SMB</td>\n",
       "      <td>NaN</td>\n",
       "      <td>NaN</td>\n",
       "      <td>...</td>\n",
       "      <td>LGEGF</td>\n",
       "      <td>less than 3 months</td>\n",
       "      <td>0</td>\n",
       "      <td>0</td>\n",
       "      <td>0.000060</td>\n",
       "      <td>0.131148</td>\n",
       "      <td>hospital &amp; health care</td>\n",
       "      <td>General Hospital</td>\n",
       "      <td>874</td>\n",
       "      <td>False</td>\n",
       "    </tr>\n",
       "    <tr>\n",
       "      <th>3</th>\n",
       "      <td>19895</td>\n",
       "      <td>0.50</td>\n",
       "      <td>/ Madison  / United States</td>\n",
       "      <td>ID</td>\n",
       "      <td>0.118644</td>\n",
       "      <td>17204</td>\n",
       "      <td>NaN</td>\n",
       "      <td>Enterprise</td>\n",
       "      <td>NaN</td>\n",
       "      <td>NaN</td>\n",
       "      <td>...</td>\n",
       "      <td>LGEUS</td>\n",
       "      <td>more than a year</td>\n",
       "      <td>0</td>\n",
       "      <td>0</td>\n",
       "      <td>0.001183</td>\n",
       "      <td>0.049840</td>\n",
       "      <td>retail</td>\n",
       "      <td>NaN</td>\n",
       "      <td>194</td>\n",
       "      <td>False</td>\n",
       "    </tr>\n",
       "    <tr>\n",
       "      <th>4</th>\n",
       "      <td>10465</td>\n",
       "      <td>1.00</td>\n",
       "      <td>/ Sao Paulo / Brazil</td>\n",
       "      <td>ID</td>\n",
       "      <td>0.074949</td>\n",
       "      <td>2329</td>\n",
       "      <td>End Customer</td>\n",
       "      <td>Enterprise</td>\n",
       "      <td>2.0</td>\n",
       "      <td>1.0</td>\n",
       "      <td>...</td>\n",
       "      <td>LGESP</td>\n",
       "      <td>less than 3 months</td>\n",
       "      <td>1</td>\n",
       "      <td>1</td>\n",
       "      <td>0.003079</td>\n",
       "      <td>0.064566</td>\n",
       "      <td>corporate / office</td>\n",
       "      <td>Engineering</td>\n",
       "      <td>167</td>\n",
       "      <td>False</td>\n",
       "    </tr>\n",
       "  </tbody>\n",
       "</table>\n",
       "<p>5 rows × 30 columns</p>\n",
       "</div>"
      ],
      "text/plain": [
       "      id  bant_submit                                   customer_country  \\\n",
       "0  19844         0.00                                        /  / Brazil   \n",
       "1   9738         0.25  400 N State Of Franklin Rd  Cloud IT / Johnson...   \n",
       "2   8491         1.00                                         /  / U.A.E   \n",
       "3  19895         0.50                         / Madison  / United States   \n",
       "4  10465         1.00                               / Sao Paulo / Brazil   \n",
       "\n",
       "  business_unit  com_reg_ver_win_rate  customer_idx          customer_type  \\\n",
       "0            ID              0.073248         47466           End Customer   \n",
       "1            IT                   NaN          5405           End Customer   \n",
       "2            ID                   NaN         13597  Specifier/ Influencer   \n",
       "3            ID              0.118644         17204                    NaN   \n",
       "4            ID              0.074949          2329           End Customer   \n",
       "\n",
       "   enterprise  historical_existing_cnt  id_strategic_ver  ...  \\\n",
       "0  Enterprise                     53.0               NaN  ...   \n",
       "1         SMB                      NaN               NaN  ...   \n",
       "2         SMB                      NaN               NaN  ...   \n",
       "3  Enterprise                      NaN               NaN  ...   \n",
       "4  Enterprise                      2.0               1.0  ...   \n",
       "\n",
       "   response_corporate   expected_timeline ver_cus  ver_pro ver_win_rate_x  \\\n",
       "0               LGESP                 NaN       1        0       0.001183   \n",
       "1               LGEUS                 NaN       0        0       0.000013   \n",
       "2               LGEGF  less than 3 months       0        0       0.000060   \n",
       "3               LGEUS    more than a year       0        0       0.001183   \n",
       "4               LGESP  less than 3 months       1        1       0.003079   \n",
       "\n",
       "  ver_win_ratio_per_bu           business_area     business_subarea  \\\n",
       "0             0.049840                  retail  Electronics & Telco   \n",
       "1                  NaN          transportation               Others   \n",
       "2             0.131148  hospital & health care     General Hospital   \n",
       "3             0.049840                  retail                  NaN   \n",
       "4             0.064566      corporate / office          Engineering   \n",
       "\n",
       "  lead_owner is_converted  \n",
       "0        278        False  \n",
       "1        437        False  \n",
       "2        874        False  \n",
       "3        194        False  \n",
       "4        167        False  \n",
       "\n",
       "[5 rows x 30 columns]"
      ]
     },
     "execution_count": 49,
     "metadata": {},
     "output_type": "execute_result"
    }
   ],
   "source": [
    "model.fit(X, y)\n",
    "\n",
    "prediction = model.predict(X_test)\n",
    "prediction = np.where(prediction == \"True\", True, False)\n",
    "\n",
    "df_submission[\"is_converted\"] = prediction\n",
    "df_submission.to_csv(\"submission.csv\", index=False)\n",
    "print(df_submission[\"is_converted\"].value_counts())\n",
    "df_submission.head() \n",
    "#1383 \n",
    "#1455 \n",
    "# ver들 추가 +1593 \n",
    "# 파생변수 + 1588 \n",
    "# bant_submit 1485"
   ]
  },
  {
   "cell_type": "code",
   "execution_count": 50,
   "id": "203b1b63",
   "metadata": {
    "scrolled": false
   },
   "outputs": [
    {
     "name": "stdout",
     "output_type": "stream",
     "text": [
      "Accuracy (Fold 0): 0.918212478920742\n",
      "Precision (Fold 0): 0.0\n",
      "Recall (Fold 0): 0.0\n",
      "F1-Score (Fold 0): 0.0\n",
      "ROC-AUC Score (Fold 0): 0.9624234850851534\n",
      "\n"
     ]
    },
    {
     "name": "stderr",
     "output_type": "stream",
     "text": [
      "c:\\Users\\user\\Desktop\\공부\\데이터분석\\.venv\\Lib\\site-packages\\sklearn\\metrics\\_classification.py:1731: UndefinedMetricWarning: Precision is ill-defined and being set to 0.0 due to no predicted samples. Use `zero_division` parameter to control this behavior.\n",
      "  _warn_prf(average, modifier, f\"{metric.capitalize()} is\", result.shape[0])\n"
     ]
    },
    {
     "name": "stdout",
     "output_type": "stream",
     "text": [
      "Accuracy (Fold 1): 0.918212478920742\n",
      "Precision (Fold 1): 0.0\n",
      "Recall (Fold 1): 0.0\n",
      "F1-Score (Fold 1): 0.0\n",
      "ROC-AUC Score (Fold 1): 0.9654860696941296\n",
      "\n"
     ]
    },
    {
     "name": "stderr",
     "output_type": "stream",
     "text": [
      "c:\\Users\\user\\Desktop\\공부\\데이터분석\\.venv\\Lib\\site-packages\\sklearn\\metrics\\_classification.py:1731: UndefinedMetricWarning: Precision is ill-defined and being set to 0.0 due to no predicted samples. Use `zero_division` parameter to control this behavior.\n",
      "  _warn_prf(average, modifier, f\"{metric.capitalize()} is\", result.shape[0])\n"
     ]
    },
    {
     "name": "stdout",
     "output_type": "stream",
     "text": [
      "Accuracy (Fold 2): 0.918212478920742\n",
      "Precision (Fold 2): 0.0\n",
      "Recall (Fold 2): 0.0\n",
      "F1-Score (Fold 2): 0.0\n",
      "ROC-AUC Score (Fold 2): 0.9631455132392339\n",
      "\n"
     ]
    },
    {
     "name": "stderr",
     "output_type": "stream",
     "text": [
      "c:\\Users\\user\\Desktop\\공부\\데이터분석\\.venv\\Lib\\site-packages\\sklearn\\metrics\\_classification.py:1731: UndefinedMetricWarning: Precision is ill-defined and being set to 0.0 due to no predicted samples. Use `zero_division` parameter to control this behavior.\n",
      "  _warn_prf(average, modifier, f\"{metric.capitalize()} is\", result.shape[0])\n"
     ]
    },
    {
     "name": "stdout",
     "output_type": "stream",
     "text": [
      "Accuracy (Fold 3): 0.918212478920742\n",
      "Precision (Fold 3): 0.0\n",
      "Recall (Fold 3): 0.0\n",
      "F1-Score (Fold 3): 0.0\n",
      "ROC-AUC Score (Fold 3): 0.9649939886209803\n",
      "\n"
     ]
    },
    {
     "name": "stderr",
     "output_type": "stream",
     "text": [
      "c:\\Users\\user\\Desktop\\공부\\데이터분석\\.venv\\Lib\\site-packages\\sklearn\\metrics\\_classification.py:1731: UndefinedMetricWarning: Precision is ill-defined and being set to 0.0 due to no predicted samples. Use `zero_division` parameter to control this behavior.\n",
      "  _warn_prf(average, modifier, f\"{metric.capitalize()} is\", result.shape[0])\n"
     ]
    },
    {
     "name": "stdout",
     "output_type": "stream",
     "text": [
      "Accuracy (Fold 4): 0.9182055822582005\n",
      "Precision (Fold 4): 0.0\n",
      "Recall (Fold 4): 0.0\n",
      "F1-Score (Fold 4): 0.0\n",
      "ROC-AUC Score (Fold 4): 0.9620127850578424\n",
      "\n",
      "Cross-Validation Average F1-Score: 0.0\n"
     ]
    },
    {
     "name": "stderr",
     "output_type": "stream",
     "text": [
      "c:\\Users\\user\\Desktop\\공부\\데이터분석\\.venv\\Lib\\site-packages\\sklearn\\metrics\\_classification.py:1731: UndefinedMetricWarning: Precision is ill-defined and being set to 0.0 due to no predicted samples. Use `zero_division` parameter to control this behavior.\n",
      "  _warn_prf(average, modifier, f\"{metric.capitalize()} is\", result.shape[0])\n"
     ]
    }
   ],
   "source": [
    "kfolds, scores = (\n",
    "    StratifiedKFold(n_splits=5, random_state=RANDOM_STATE, shuffle=True),\n",
    "    [],\n",
    ")\n",
    "\n",
    "for fold_idx, (train_idx, val_idx) in enumerate(kfolds.split(X, y)):\n",
    "    X_train, y_train = X.iloc[train_idx], y.iloc[train_idx]\n",
    "    X_val, y_val = X.iloc[val_idx], y.iloc[val_idx]\n",
    "\n",
    "    model.fit(X_train, y_train)\n",
    "    prediction = model.predict(X_val)\n",
    "    prediction = np.where(prediction == \"True\", True, False)\n",
    "\n",
    "    print(f\"Accuracy (Fold {fold_idx}): {accuracy_score(y_val, prediction)}\")\n",
    "    print(f\"Precision (Fold {fold_idx}): {precision_score(y_val, prediction)}\")\n",
    "    print(f\"Recall (Fold {fold_idx}): {recall_score(y_val, prediction)}\")\n",
    "    print(f\"F1-Score (Fold {fold_idx}): {f1_score(y_val, prediction)}\")\n",
    "    print(\n",
    "        f\"ROC-AUC Score (Fold {fold_idx}): \"\n",
    "        + f\"{roc_auc_score(y_val, model.predict_proba(X_val)[:,1])}\\n\"\n",
    "    )\n",
    "\n",
    "    scores.append(f1_score(y_val, prediction))\n",
    "\n",
    "print(f\"Cross-Validation Average F1-Score: {np.mean(scores)}\") \n"
   ]
  },
  {
   "cell_type": "code",
   "execution_count": 51,
   "id": "b311d633",
   "metadata": {},
   "outputs": [],
   "source": [
    "# F1-Score: 0.6373173181569636 \n",
    "# -> (customer_position) 0.6413369684259755 \n",
    "# -> (customer_job) 0.6469536942063515\n",
    "# -> (corporate & business_weight) : 0.6485214094132996\n",
    "\n",
    "# -> 기본값 : 0.5837, 1383\n",
    "# -> 이상치 처리 0.5839, 1455\n",
    "# -> vertical_level1, 0.5843, 1431\n",
    "\n",
    "# -> (vertical_level1 & target_customer 생성 후 ver_cus 삭제) : 0.6545288217419796\n",
    "# -> (target_category 생성 후 ver_pro 삭제 ) : 0.6559641169129228\n",
    "# -> bant_submit budget 생성 후 대입 : 0.5988"
   ]
  },
  {
   "cell_type": "code",
   "execution_count": 52,
   "id": "f1506081",
   "metadata": {
    "scrolled": true
   },
   "outputs": [],
   "source": [
    "# model.feature_importances_"
   ]
  },
  {
   "cell_type": "code",
   "execution_count": 53,
   "id": "3f1212ef",
   "metadata": {},
   "outputs": [],
   "source": [
    "# import seaborn as sns\n",
    "# import matplotlib.pyplot as plt\n",
    "\n",
    "# feature_names = X.columns.tolist()\n",
    "# plt.figure(figsize=(20,15))\n",
    "# sns.barplot(x=model.feature_importances_, y=feature_names)"
   ]
  },
  {
   "cell_type": "markdown",
   "id": "f6e40a38",
   "metadata": {
    "cell_marker": "\"\"\""
   },
   "source": [
    "# Create Submission"
   ]
  },
  {
   "cell_type": "code",
   "execution_count": 54,
   "id": "6bbe88b4",
   "metadata": {},
   "outputs": [
    {
     "name": "stdout",
     "output_type": "stream",
     "text": [
      "is_converted\n",
      "False    5271\n",
      "Name: count, dtype: int64\n"
     ]
    },
    {
     "data": {
      "text/html": [
       "<div>\n",
       "<style scoped>\n",
       "    .dataframe tbody tr th:only-of-type {\n",
       "        vertical-align: middle;\n",
       "    }\n",
       "\n",
       "    .dataframe tbody tr th {\n",
       "        vertical-align: top;\n",
       "    }\n",
       "\n",
       "    .dataframe thead th {\n",
       "        text-align: right;\n",
       "    }\n",
       "</style>\n",
       "<table border=\"1\" class=\"dataframe\">\n",
       "  <thead>\n",
       "    <tr style=\"text-align: right;\">\n",
       "      <th></th>\n",
       "      <th>id</th>\n",
       "      <th>bant_submit</th>\n",
       "      <th>customer_country</th>\n",
       "      <th>business_unit</th>\n",
       "      <th>com_reg_ver_win_rate</th>\n",
       "      <th>customer_idx</th>\n",
       "      <th>customer_type</th>\n",
       "      <th>enterprise</th>\n",
       "      <th>historical_existing_cnt</th>\n",
       "      <th>id_strategic_ver</th>\n",
       "      <th>...</th>\n",
       "      <th>response_corporate</th>\n",
       "      <th>expected_timeline</th>\n",
       "      <th>ver_cus</th>\n",
       "      <th>ver_pro</th>\n",
       "      <th>ver_win_rate_x</th>\n",
       "      <th>ver_win_ratio_per_bu</th>\n",
       "      <th>business_area</th>\n",
       "      <th>business_subarea</th>\n",
       "      <th>lead_owner</th>\n",
       "      <th>is_converted</th>\n",
       "    </tr>\n",
       "  </thead>\n",
       "  <tbody>\n",
       "    <tr>\n",
       "      <th>0</th>\n",
       "      <td>19844</td>\n",
       "      <td>0.00</td>\n",
       "      <td>/  / Brazil</td>\n",
       "      <td>ID</td>\n",
       "      <td>0.073248</td>\n",
       "      <td>47466</td>\n",
       "      <td>End Customer</td>\n",
       "      <td>Enterprise</td>\n",
       "      <td>53.0</td>\n",
       "      <td>NaN</td>\n",
       "      <td>...</td>\n",
       "      <td>LGESP</td>\n",
       "      <td>NaN</td>\n",
       "      <td>1</td>\n",
       "      <td>0</td>\n",
       "      <td>0.001183</td>\n",
       "      <td>0.049840</td>\n",
       "      <td>retail</td>\n",
       "      <td>Electronics &amp; Telco</td>\n",
       "      <td>278</td>\n",
       "      <td>False</td>\n",
       "    </tr>\n",
       "    <tr>\n",
       "      <th>1</th>\n",
       "      <td>9738</td>\n",
       "      <td>0.25</td>\n",
       "      <td>400 N State Of Franklin Rd  Cloud IT / Johnson...</td>\n",
       "      <td>IT</td>\n",
       "      <td>NaN</td>\n",
       "      <td>5405</td>\n",
       "      <td>End Customer</td>\n",
       "      <td>SMB</td>\n",
       "      <td>NaN</td>\n",
       "      <td>NaN</td>\n",
       "      <td>...</td>\n",
       "      <td>LGEUS</td>\n",
       "      <td>NaN</td>\n",
       "      <td>0</td>\n",
       "      <td>0</td>\n",
       "      <td>0.000013</td>\n",
       "      <td>NaN</td>\n",
       "      <td>transportation</td>\n",
       "      <td>Others</td>\n",
       "      <td>437</td>\n",
       "      <td>False</td>\n",
       "    </tr>\n",
       "    <tr>\n",
       "      <th>2</th>\n",
       "      <td>8491</td>\n",
       "      <td>1.00</td>\n",
       "      <td>/  / U.A.E</td>\n",
       "      <td>ID</td>\n",
       "      <td>NaN</td>\n",
       "      <td>13597</td>\n",
       "      <td>Specifier/ Influencer</td>\n",
       "      <td>SMB</td>\n",
       "      <td>NaN</td>\n",
       "      <td>NaN</td>\n",
       "      <td>...</td>\n",
       "      <td>LGEGF</td>\n",
       "      <td>less than 3 months</td>\n",
       "      <td>0</td>\n",
       "      <td>0</td>\n",
       "      <td>0.000060</td>\n",
       "      <td>0.131148</td>\n",
       "      <td>hospital &amp; health care</td>\n",
       "      <td>General Hospital</td>\n",
       "      <td>874</td>\n",
       "      <td>False</td>\n",
       "    </tr>\n",
       "    <tr>\n",
       "      <th>3</th>\n",
       "      <td>19895</td>\n",
       "      <td>0.50</td>\n",
       "      <td>/ Madison  / United States</td>\n",
       "      <td>ID</td>\n",
       "      <td>0.118644</td>\n",
       "      <td>17204</td>\n",
       "      <td>NaN</td>\n",
       "      <td>Enterprise</td>\n",
       "      <td>NaN</td>\n",
       "      <td>NaN</td>\n",
       "      <td>...</td>\n",
       "      <td>LGEUS</td>\n",
       "      <td>more than a year</td>\n",
       "      <td>0</td>\n",
       "      <td>0</td>\n",
       "      <td>0.001183</td>\n",
       "      <td>0.049840</td>\n",
       "      <td>retail</td>\n",
       "      <td>NaN</td>\n",
       "      <td>194</td>\n",
       "      <td>False</td>\n",
       "    </tr>\n",
       "    <tr>\n",
       "      <th>4</th>\n",
       "      <td>10465</td>\n",
       "      <td>1.00</td>\n",
       "      <td>/ Sao Paulo / Brazil</td>\n",
       "      <td>ID</td>\n",
       "      <td>0.074949</td>\n",
       "      <td>2329</td>\n",
       "      <td>End Customer</td>\n",
       "      <td>Enterprise</td>\n",
       "      <td>2.0</td>\n",
       "      <td>1.0</td>\n",
       "      <td>...</td>\n",
       "      <td>LGESP</td>\n",
       "      <td>less than 3 months</td>\n",
       "      <td>1</td>\n",
       "      <td>1</td>\n",
       "      <td>0.003079</td>\n",
       "      <td>0.064566</td>\n",
       "      <td>corporate / office</td>\n",
       "      <td>Engineering</td>\n",
       "      <td>167</td>\n",
       "      <td>False</td>\n",
       "    </tr>\n",
       "  </tbody>\n",
       "</table>\n",
       "<p>5 rows × 30 columns</p>\n",
       "</div>"
      ],
      "text/plain": [
       "      id  bant_submit                                   customer_country  \\\n",
       "0  19844         0.00                                        /  / Brazil   \n",
       "1   9738         0.25  400 N State Of Franklin Rd  Cloud IT / Johnson...   \n",
       "2   8491         1.00                                         /  / U.A.E   \n",
       "3  19895         0.50                         / Madison  / United States   \n",
       "4  10465         1.00                               / Sao Paulo / Brazil   \n",
       "\n",
       "  business_unit  com_reg_ver_win_rate  customer_idx          customer_type  \\\n",
       "0            ID              0.073248         47466           End Customer   \n",
       "1            IT                   NaN          5405           End Customer   \n",
       "2            ID                   NaN         13597  Specifier/ Influencer   \n",
       "3            ID              0.118644         17204                    NaN   \n",
       "4            ID              0.074949          2329           End Customer   \n",
       "\n",
       "   enterprise  historical_existing_cnt  id_strategic_ver  ...  \\\n",
       "0  Enterprise                     53.0               NaN  ...   \n",
       "1         SMB                      NaN               NaN  ...   \n",
       "2         SMB                      NaN               NaN  ...   \n",
       "3  Enterprise                      NaN               NaN  ...   \n",
       "4  Enterprise                      2.0               1.0  ...   \n",
       "\n",
       "   response_corporate   expected_timeline ver_cus  ver_pro ver_win_rate_x  \\\n",
       "0               LGESP                 NaN       1        0       0.001183   \n",
       "1               LGEUS                 NaN       0        0       0.000013   \n",
       "2               LGEGF  less than 3 months       0        0       0.000060   \n",
       "3               LGEUS    more than a year       0        0       0.001183   \n",
       "4               LGESP  less than 3 months       1        1       0.003079   \n",
       "\n",
       "  ver_win_ratio_per_bu           business_area     business_subarea  \\\n",
       "0             0.049840                  retail  Electronics & Telco   \n",
       "1                  NaN          transportation               Others   \n",
       "2             0.131148  hospital & health care     General Hospital   \n",
       "3             0.049840                  retail                  NaN   \n",
       "4             0.064566      corporate / office          Engineering   \n",
       "\n",
       "  lead_owner is_converted  \n",
       "0        278        False  \n",
       "1        437        False  \n",
       "2        874        False  \n",
       "3        194        False  \n",
       "4        167        False  \n",
       "\n",
       "[5 rows x 30 columns]"
      ]
     },
     "execution_count": 54,
     "metadata": {},
     "output_type": "execute_result"
    }
   ],
   "source": [
    "model.fit(X, y)\n",
    "\n",
    "prediction = model.predict(X_test)\n",
    "prediction = np.where(prediction == \"True\", True, False)\n",
    "\n",
    "df_submission[\"is_converted\"] = prediction\n",
    "df_submission.to_csv(\"submission.csv\", index=False)\n",
    "print(df_submission[\"is_converted\"].value_counts())\n",
    "df_submission.head() "
   ]
  },
  {
   "cell_type": "code",
   "execution_count": null,
   "id": "27b495eb",
   "metadata": {},
   "outputs": [],
   "source": []
  },
  {
   "cell_type": "code",
   "execution_count": null,
   "id": "068d83cf",
   "metadata": {},
   "outputs": [],
   "source": []
  },
  {
   "cell_type": "code",
   "execution_count": null,
   "id": "ab23c046",
   "metadata": {},
   "outputs": [],
   "source": []
  }
 ],
 "metadata": {
  "kernelspec": {
   "display_name": ".venv",
   "language": "python",
   "name": "python3"
  },
  "language_info": {
   "codemirror_mode": {
    "name": "ipython",
    "version": 3
   },
   "file_extension": ".py",
   "mimetype": "text/x-python",
   "name": "python",
   "nbconvert_exporter": "python",
   "pygments_lexer": "ipython3",
   "version": "3.12.7"
  }
 },
 "nbformat": 4,
 "nbformat_minor": 5
}
